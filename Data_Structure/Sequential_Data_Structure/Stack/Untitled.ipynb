{
 "cells": [
  {
   "cell_type": "code",
   "execution_count": 15,
   "id": "84dfab97-f79b-439a-8a50-fa785dfc76f3",
   "metadata": {},
   "outputs": [
    {
     "name": "stdin",
     "output_type": "stream",
     "text": [
      " 3\n",
      " ()()()\n",
      " ((()))\n",
      " )))\n"
     ]
    },
    {
     "name": "stdout",
     "output_type": "stream",
     "text": [
      "YES\n",
      "YES\n",
      "NO\n"
     ]
    }
   ],
   "source": [
    "cnt = int(input())\n",
    "li = [0] * cnt\n",
    "\n",
    "for i in range(cnt):\n",
    "    li[i] = input()\n",
    "\n",
    "for a in li:\n",
    "    ck_list = []\n",
    "    for i in a:\n",
    "        if i == \"(\":\n",
    "            ck_list.append(i)\n",
    "        elif i == \")\" and len(ck_list) != 0:\n",
    "            if i != ck_list[-1]:\n",
    "                ck_list.pop()\n",
    "            elif i == ck_list[-1]:\n",
    "                ck_list.append(i)\n",
    "        elif i == \")\" and len(ck_list) == 0:\n",
    "                ck_list.append(i)\n",
    "    if len(ck_list) == 0:\n",
    "        print(\"YES\")\n",
    "    else:\n",
    "        print(\"NO\")"
   ]
  },
  {
   "cell_type": "code",
   "execution_count": null,
   "id": "b6ad73e6-4d47-4b96-9b4d-0a4770caf90d",
   "metadata": {},
   "outputs": [],
   "source": []
  },
  {
   "cell_type": "code",
   "execution_count": null,
   "id": "029066cb-79c3-4731-8d9c-2ae33eac178c",
   "metadata": {},
   "outputs": [],
   "source": []
  }
 ],
 "metadata": {
  "kernelspec": {
   "display_name": "torch",
   "language": "python",
   "name": "torch"
  },
  "language_info": {
   "codemirror_mode": {
    "name": "ipython",
    "version": 3
   },
   "file_extension": ".py",
   "mimetype": "text/x-python",
   "name": "python",
   "nbconvert_exporter": "python",
   "pygments_lexer": "ipython3",
   "version": "3.12.7"
  }
 },
 "nbformat": 4,
 "nbformat_minor": 5
}
